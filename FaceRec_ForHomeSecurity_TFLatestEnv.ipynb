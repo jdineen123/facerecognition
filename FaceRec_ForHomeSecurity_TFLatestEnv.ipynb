{
 "cells": [
  {
   "cell_type": "markdown",
   "metadata": {},
   "source": [
    "## Load Dependencies"
   ]
  },
  {
   "cell_type": "code",
   "execution_count": 1,
   "metadata": {
    "ExecuteTime": {
     "end_time": "2018-03-28T10:22:01.114368Z",
     "start_time": "2018-03-28T10:21:59.590661Z"
    },
    "scrolled": true
   },
   "outputs": [
    {
     "name": "stdout",
     "output_type": "stream",
     "text": [
      "Requirement already satisfied: face_recognition in c:\\users\\jdine\\documents\\anaconda3\\envs\\tensorflowlatest\\lib\\site-packages\n",
      "Requirement already satisfied: Pillow in c:\\users\\jdine\\documents\\anaconda3\\envs\\tensorflowlatest\\lib\\site-packages (from face_recognition)\n",
      "Requirement already satisfied: dlib>=19.7 in c:\\users\\jdine\\documents\\anaconda3\\envs\\tensorflowlatest\\lib\\site-packages (from face_recognition)\n",
      "Requirement already satisfied: numpy in c:\\users\\jdine\\documents\\anaconda3\\envs\\tensorflowlatest\\lib\\site-packages (from face_recognition)\n",
      "Requirement already satisfied: scipy>=0.17.0 in c:\\users\\jdine\\documents\\anaconda3\\envs\\tensorflowlatest\\lib\\site-packages (from face_recognition)\n",
      "Requirement already satisfied: Click>=6.0 in c:\\users\\jdine\\documents\\anaconda3\\envs\\tensorflowlatest\\lib\\site-packages (from face_recognition)\n",
      "Requirement already satisfied: face-recognition-models>=0.3.0 in c:\\users\\jdine\\documents\\anaconda3\\envs\\tensorflowlatest\\lib\\site-packages (from face_recognition)\n",
      "Requirement already satisfied: opencv-python in c:\\users\\jdine\\documents\\anaconda3\\envs\\tensorflowlatest\\lib\\site-packages\n",
      "Requirement already satisfied: numpy>=1.11.3 in c:\\users\\jdine\\documents\\anaconda3\\envs\\tensorflowlatest\\lib\\site-packages (from opencv-python)\n",
      "Requirement already satisfied: CMake in c:\\users\\jdine\\documents\\anaconda3\\envs\\tensorflowlatest\\lib\\site-packages\n",
      "Requirement already satisfied: pillow in c:\\users\\jdine\\documents\\anaconda3\\envs\\tensorflowlatest\\lib\\site-packages\n",
      "Requirement already satisfied: dlib in c:\\users\\jdine\\documents\\anaconda3\\envs\\tensorflowlatest\\lib\\site-packages\n",
      "Requirement already satisfied: scipy in c:\\users\\jdine\\documents\\anaconda3\\envs\\tensorflowlatest\\lib\\site-packages\n",
      "Requirement already satisfied: numpy>=1.8.2 in c:\\users\\jdine\\documents\\anaconda3\\envs\\tensorflowlatest\\lib\\site-packages (from scipy)\n",
      "Requirement already satisfied: numba in c:\\users\\jdine\\documents\\anaconda3\\envs\\tensorflowlatest\\lib\\site-packages\n",
      "Requirement already satisfied: numpy in c:\\users\\jdine\\documents\\anaconda3\\envs\\tensorflowlatest\\lib\\site-packages (from numba)\n",
      "Requirement already satisfied: llvmlite>=0.22.0.dev0 in c:\\users\\jdine\\documents\\anaconda3\\envs\\tensorflowlatest\\lib\\site-packages (from numba)\n",
      "Requirement already satisfied: numpy in c:\\users\\jdine\\documents\\anaconda3\\envs\\tensorflowlatest\\lib\\site-packages\n",
      "Requirement already satisfied: tensorflow-gpu in c:\\users\\jdine\\documents\\anaconda3\\envs\\tensorflowlatest\\lib\\site-packages\n",
      "Requirement already satisfied: absl-py>=0.1.6 in c:\\users\\jdine\\documents\\anaconda3\\envs\\tensorflowlatest\\lib\\site-packages (from tensorflow-gpu)\n",
      "Requirement already satisfied: wheel>=0.26 in c:\\users\\jdine\\documents\\anaconda3\\envs\\tensorflowlatest\\lib\\site-packages (from tensorflow-gpu)\n",
      "Requirement already satisfied: numpy>=1.13.3 in c:\\users\\jdine\\documents\\anaconda3\\envs\\tensorflowlatest\\lib\\site-packages (from tensorflow-gpu)\n",
      "Requirement already satisfied: grpcio>=1.8.6 in c:\\users\\jdine\\documents\\anaconda3\\envs\\tensorflowlatest\\lib\\site-packages (from tensorflow-gpu)\n",
      "Requirement already satisfied: astor>=0.6.0 in c:\\users\\jdine\\documents\\anaconda3\\envs\\tensorflowlatest\\lib\\site-packages (from tensorflow-gpu)\n",
      "Requirement already satisfied: six>=1.10.0 in c:\\users\\jdine\\documents\\anaconda3\\envs\\tensorflowlatest\\lib\\site-packages (from tensorflow-gpu)\n",
      "Requirement already satisfied: gast>=0.2.0 in c:\\users\\jdine\\documents\\anaconda3\\envs\\tensorflowlatest\\lib\\site-packages (from tensorflow-gpu)\n",
      "Requirement already satisfied: tensorboard<1.7.0,>=1.6.0 in c:\\users\\jdine\\documents\\anaconda3\\envs\\tensorflowlatest\\lib\\site-packages (from tensorflow-gpu)\n",
      "Requirement already satisfied: protobuf>=3.4.0 in c:\\users\\jdine\\documents\\anaconda3\\envs\\tensorflowlatest\\lib\\site-packages (from tensorflow-gpu)\n",
      "Requirement already satisfied: termcolor>=1.1.0 in c:\\users\\jdine\\documents\\anaconda3\\envs\\tensorflowlatest\\lib\\site-packages (from tensorflow-gpu)\n",
      "Requirement already satisfied: html5lib==0.9999999 in c:\\users\\jdine\\documents\\anaconda3\\envs\\tensorflowlatest\\lib\\site-packages (from tensorboard<1.7.0,>=1.6.0->tensorflow-gpu)\n",
      "Requirement already satisfied: markdown>=2.6.8 in c:\\users\\jdine\\documents\\anaconda3\\envs\\tensorflowlatest\\lib\\site-packages (from tensorboard<1.7.0,>=1.6.0->tensorflow-gpu)\n",
      "Requirement already satisfied: bleach==1.5.0 in c:\\users\\jdine\\documents\\anaconda3\\envs\\tensorflowlatest\\lib\\site-packages (from tensorboard<1.7.0,>=1.6.0->tensorflow-gpu)\n",
      "Requirement already satisfied: werkzeug>=0.11.10 in c:\\users\\jdine\\documents\\anaconda3\\envs\\tensorflowlatest\\lib\\site-packages (from tensorboard<1.7.0,>=1.6.0->tensorflow-gpu)\n",
      "Requirement already satisfied: setuptools in c:\\users\\jdine\\documents\\anaconda3\\envs\\tensorflowlatest\\lib\\site-packages (from protobuf>=3.4.0->tensorflow-gpu)\n",
      "Requirement already satisfied: keras in c:\\users\\jdine\\documents\\anaconda3\\envs\\tensorflowlatest\\lib\\site-packages\n",
      "Requirement already satisfied: six>=1.9.0 in c:\\users\\jdine\\documents\\anaconda3\\envs\\tensorflowlatest\\lib\\site-packages (from keras)\n",
      "Requirement already satisfied: scipy>=0.14 in c:\\users\\jdine\\documents\\anaconda3\\envs\\tensorflowlatest\\lib\\site-packages (from keras)\n",
      "Requirement already satisfied: numpy>=1.9.1 in c:\\users\\jdine\\documents\\anaconda3\\envs\\tensorflowlatest\\lib\\site-packages (from keras)\n",
      "Requirement already satisfied: pyyaml in c:\\users\\jdine\\documents\\anaconda3\\envs\\tensorflowlatest\\lib\\site-packages (from keras)\n",
      "Requirement already satisfied: imageio in c:\\users\\jdine\\documents\\anaconda3\\envs\\tensorflowlatest\\lib\\site-packages\n",
      "Requirement already satisfied: numpy in c:\\users\\jdine\\documents\\anaconda3\\envs\\tensorflowlatest\\lib\\site-packages (from imageio)\n",
      "Requirement already satisfied: pillow in c:\\users\\jdine\\documents\\anaconda3\\envs\\tensorflowlatest\\lib\\site-packages (from imageio)\n",
      "Requirement already satisfied: pandas in c:\\users\\jdine\\documents\\anaconda3\\envs\\tensorflowlatest\\lib\\site-packages\n",
      "Requirement already satisfied: numpy>=1.9.0 in c:\\users\\jdine\\documents\\anaconda3\\envs\\tensorflowlatest\\lib\\site-packages (from pandas)\n",
      "Requirement already satisfied: python-dateutil>=2 in c:\\users\\jdine\\documents\\anaconda3\\envs\\tensorflowlatest\\lib\\site-packages (from pandas)\n",
      "Requirement already satisfied: pytz>=2011k in c:\\users\\jdine\\documents\\anaconda3\\envs\\tensorflowlatest\\lib\\site-packages (from pandas)\n",
      "Requirement already satisfied: six>=1.5 in c:\\users\\jdine\\documents\\anaconda3\\envs\\tensorflowlatest\\lib\\site-packages (from python-dateutil>=2->pandas)\n",
      "Requirement already satisfied: livelossplot in c:\\users\\jdine\\documents\\anaconda3\\envs\\tensorflowlatest\\lib\\site-packages\n",
      "Requirement already satisfied: matplotlib in c:\\users\\jdine\\documents\\anaconda3\\envs\\tensorflowlatest\\lib\\site-packages (from livelossplot)\n",
      "Requirement already satisfied: notebook in c:\\users\\jdine\\documents\\anaconda3\\envs\\tensorflowlatest\\lib\\site-packages (from livelossplot)\n",
      "Requirement already satisfied: pytz in c:\\users\\jdine\\documents\\anaconda3\\envs\\tensorflowlatest\\lib\\site-packages (from matplotlib->livelossplot)\n",
      "Requirement already satisfied: cycler>=0.10 in c:\\users\\jdine\\documents\\anaconda3\\envs\\tensorflowlatest\\lib\\site-packages (from matplotlib->livelossplot)\n",
      "Requirement already satisfied: pyparsing!=2.0.4,!=2.1.2,!=2.1.6,>=2.0.1 in c:\\users\\jdine\\documents\\anaconda3\\envs\\tensorflowlatest\\lib\\site-packages (from matplotlib->livelossplot)\n",
      "Requirement already satisfied: numpy>=1.7.1 in c:\\users\\jdine\\documents\\anaconda3\\envs\\tensorflowlatest\\lib\\site-packages (from matplotlib->livelossplot)\n",
      "Requirement already satisfied: python-dateutil>=2.1 in c:\\users\\jdine\\documents\\anaconda3\\envs\\tensorflowlatest\\lib\\site-packages (from matplotlib->livelossplot)\n",
      "Requirement already satisfied: kiwisolver>=1.0.1 in c:\\users\\jdine\\documents\\anaconda3\\envs\\tensorflowlatest\\lib\\site-packages (from matplotlib->livelossplot)\n",
      "Requirement already satisfied: six>=1.10 in c:\\users\\jdine\\documents\\anaconda3\\envs\\tensorflowlatest\\lib\\site-packages (from matplotlib->livelossplot)\n",
      "Requirement already satisfied: jinja2 in c:\\users\\jdine\\documents\\anaconda3\\envs\\tensorflowlatest\\lib\\site-packages (from notebook->livelossplot)\n",
      "Requirement already satisfied: tornado>=4 in c:\\users\\jdine\\documents\\anaconda3\\envs\\tensorflowlatest\\lib\\site-packages (from notebook->livelossplot)\n",
      "Requirement already satisfied: ipython_genutils in c:\\users\\jdine\\documents\\anaconda3\\envs\\tensorflowlatest\\lib\\site-packages (from notebook->livelossplot)\n",
      "Requirement already satisfied: traitlets>=4.2.1 in c:\\users\\jdine\\documents\\anaconda3\\envs\\tensorflowlatest\\lib\\site-packages (from notebook->livelossplot)\n",
      "Requirement already satisfied: jupyter_core>=4.4.0 in c:\\users\\jdine\\documents\\anaconda3\\envs\\tensorflowlatest\\lib\\site-packages (from notebook->livelossplot)\n",
      "Requirement already satisfied: jupyter_client>=5.2.0 in c:\\users\\jdine\\documents\\anaconda3\\envs\\tensorflowlatest\\lib\\site-packages (from notebook->livelossplot)\n",
      "Requirement already satisfied: nbformat in c:\\users\\jdine\\documents\\anaconda3\\envs\\tensorflowlatest\\lib\\site-packages (from notebook->livelossplot)\n",
      "Requirement already satisfied: nbconvert in c:\\users\\jdine\\documents\\anaconda3\\envs\\tensorflowlatest\\lib\\site-packages (from notebook->livelossplot)\n",
      "Requirement already satisfied: ipykernel in c:\\users\\jdine\\documents\\anaconda3\\envs\\tensorflowlatest\\lib\\site-packages (from notebook->livelossplot)\n",
      "Requirement already satisfied: Send2Trash in c:\\users\\jdine\\documents\\anaconda3\\envs\\tensorflowlatest\\lib\\site-packages (from notebook->livelossplot)\n",
      "Requirement already satisfied: terminado>=0.8.1 in c:\\users\\jdine\\documents\\anaconda3\\envs\\tensorflowlatest\\lib\\site-packages (from notebook->livelossplot)\n",
      "Requirement already satisfied: setuptools in c:\\users\\jdine\\documents\\anaconda3\\envs\\tensorflowlatest\\lib\\site-packages (from kiwisolver>=1.0.1->matplotlib->livelossplot)\n",
      "Requirement already satisfied: MarkupSafe>=0.23 in c:\\users\\jdine\\documents\\anaconda3\\envs\\tensorflowlatest\\lib\\site-packages (from jinja2->notebook->livelossplot)\n",
      "Requirement already satisfied: decorator in c:\\users\\jdine\\documents\\anaconda3\\envs\\tensorflowlatest\\lib\\site-packages (from traitlets>=4.2.1->notebook->livelossplot)\n",
      "Requirement already satisfied: pyzmq>=13 in c:\\users\\jdine\\documents\\anaconda3\\envs\\tensorflowlatest\\lib\\site-packages (from jupyter_client>=5.2.0->notebook->livelossplot)\n",
      "Requirement already satisfied: jsonschema!=2.5.0,>=2.4 in c:\\users\\jdine\\documents\\anaconda3\\envs\\tensorflowlatest\\lib\\site-packages (from nbformat->notebook->livelossplot)\n",
      "Requirement already satisfied: mistune>=0.7.4 in c:\\users\\jdine\\documents\\anaconda3\\envs\\tensorflowlatest\\lib\\site-packages (from nbconvert->notebook->livelossplot)\n",
      "Requirement already satisfied: pygments in c:\\users\\jdine\\documents\\anaconda3\\envs\\tensorflowlatest\\lib\\site-packages (from nbconvert->notebook->livelossplot)\n",
      "Requirement already satisfied: entrypoints>=0.2.2 in c:\\users\\jdine\\documents\\anaconda3\\envs\\tensorflowlatest\\lib\\site-packages (from nbconvert->notebook->livelossplot)\n",
      "Requirement already satisfied: bleach in c:\\users\\jdine\\documents\\anaconda3\\envs\\tensorflowlatest\\lib\\site-packages (from nbconvert->notebook->livelossplot)\n",
      "Requirement already satisfied: pandocfilters>=1.4.1 in c:\\users\\jdine\\documents\\anaconda3\\envs\\tensorflowlatest\\lib\\site-packages (from nbconvert->notebook->livelossplot)\n",
      "Requirement already satisfied: testpath in c:\\users\\jdine\\documents\\anaconda3\\envs\\tensorflowlatest\\lib\\site-packages (from nbconvert->notebook->livelossplot)\n",
      "Requirement already satisfied: ipython>=4.0.0 in c:\\users\\jdine\\documents\\anaconda3\\envs\\tensorflowlatest\\lib\\site-packages (from ipykernel->notebook->livelossplot)\n",
      "Requirement already satisfied: html5lib!=0.9999,!=0.99999,<0.99999999,>=0.999 in c:\\users\\jdine\\documents\\anaconda3\\envs\\tensorflowlatest\\lib\\site-packages (from bleach->nbconvert->notebook->livelossplot)\n",
      "Requirement already satisfied: jedi>=0.10 in c:\\users\\jdine\\documents\\anaconda3\\envs\\tensorflowlatest\\lib\\site-packages (from ipython>=4.0.0->ipykernel->notebook->livelossplot)\n",
      "Requirement already satisfied: pickleshare in c:\\users\\jdine\\documents\\anaconda3\\envs\\tensorflowlatest\\lib\\site-packages (from ipython>=4.0.0->ipykernel->notebook->livelossplot)\n",
      "Requirement already satisfied: simplegeneric>0.8 in c:\\users\\jdine\\documents\\anaconda3\\envs\\tensorflowlatest\\lib\\site-packages (from ipython>=4.0.0->ipykernel->notebook->livelossplot)\n",
      "Requirement already satisfied: prompt_toolkit<2.0.0,>=1.0.4 in c:\\users\\jdine\\documents\\anaconda3\\envs\\tensorflowlatest\\lib\\site-packages (from ipython>=4.0.0->ipykernel->notebook->livelossplot)\n",
      "Requirement already satisfied: colorama in c:\\users\\jdine\\documents\\anaconda3\\envs\\tensorflowlatest\\lib\\site-packages (from ipython>=4.0.0->ipykernel->notebook->livelossplot)\n",
      "Requirement already satisfied: parso==0.1.* in c:\\users\\jdine\\documents\\anaconda3\\envs\\tensorflowlatest\\lib\\site-packages (from jedi>=0.10->ipython>=4.0.0->ipykernel->notebook->livelossplot)\n",
      "Requirement already satisfied: wcwidth in c:\\users\\jdine\\documents\\anaconda3\\envs\\tensorflowlatest\\lib\\site-packages (from prompt_toolkit<2.0.0,>=1.0.4->ipython>=4.0.0->ipykernel->notebook->livelossplot)\n"
     ]
    },
    {
     "name": "stdout",
     "output_type": "stream",
     "text": [
      "Requirement already satisfied: sklearn in c:\\users\\jdine\\documents\\anaconda3\\envs\\tensorflowlatest\\lib\\site-packages\n",
      "Requirement already satisfied: scikit-learn in c:\\users\\jdine\\documents\\anaconda3\\envs\\tensorflowlatest\\lib\\site-packages (from sklearn)\n"
     ]
    },
    {
     "name": "stderr",
     "output_type": "stream",
     "text": [
      "C:\\Users\\jdine\\Documents\\Anaconda3\\envs\\tensorflowlatest\\lib\\site-packages\\h5py\\__init__.py:36: FutureWarning: Conversion of the second argument of issubdtype from `float` to `np.floating` is deprecated. In future, it will be treated as `np.float64 == np.dtype(float).type`.\n",
      "  from ._conv import register_converters as _register_converters\n",
      "Using TensorFlow backend.\n"
     ]
    },
    {
     "name": "stdout",
     "output_type": "stream",
     "text": [
      "Requirement already satisfied: h5py in c:\\users\\jdine\\documents\\anaconda3\\envs\\tensorflowlatest\\lib\\site-packages\n",
      "Requirement already satisfied: six in c:\\users\\jdine\\documents\\anaconda3\\envs\\tensorflowlatest\\lib\\site-packages (from h5py)\n",
      "Requirement already satisfied: numpy>=1.7 in c:\\users\\jdine\\documents\\anaconda3\\envs\\tensorflowlatest\\lib\\site-packages (from h5py)\n"
     ]
    }
   ],
   "source": [
    "!pip install face_recognition\n",
    "!pip install opencv-python\n",
    "!pip install CMake\n",
    "!pip install pillow\n",
    "!pip install dlib\n",
    "!pip install scipy\n",
    "!pip install numba\n",
    "!pip install numpy\n",
    "!pip install tensorflow-gpu\n",
    "!pip install keras\n",
    "!pip install imageio\n",
    "!pip install pandas\n",
    "!pip install livelossplot\n",
    "!pip install sklearn\n",
    "\n",
    "import face_recognition\n",
    "import cv2\n",
    "import imageio\n",
    "import scipy.misc\n",
    "from scipy.stats import uniform  # for training-and-test split\n",
    "import sys\n",
    "from numba import vectorize\n",
    "import numpy as np\n",
    "import sys\n",
    "import inspect\n",
    "import face_recognition\n",
    "import scipy.misc\n",
    "from scipy import misc\n",
    "import pandas as pd  # data frame operations\n",
    "import numpy as np #arrays and math functions\n",
    "from keras.utils import np_utils\n",
    "from sklearn.model_selection import train_test_split\n",
    "import tensorflow as tf\n",
    "from keras.datasets import mnist\n",
    "from keras.models import Sequential\n",
    "from keras.layers import Dense, Dropout, Activation, Flatten\n",
    "from keras.optimizers import Adam\n",
    "from keras.layers.normalization import BatchNormalization\n",
    "from keras.utils import np_utils\n",
    "from keras.layers import Conv2D, MaxPooling2D, ZeroPadding2D, GlobalAveragePooling2D\n",
    "from keras.layers.advanced_activations import LeakyReLU \n",
    "from keras.preprocessing.image import ImageDataGenerator\n",
    "from keras.utils.np_utils import to_categorical # convert to one-hot-encoding\n",
    "from keras.models import Sequential\n",
    "from keras.layers import Dense, Dropout, Flatten, Conv2D, MaxPool2D\n",
    "from keras.optimizers import RMSprop\n",
    "from keras.preprocessing.image import ImageDataGenerator\n",
    "from keras.callbacks import ReduceLROnPlateau\n",
    "from livelossplot import PlotLossesKeras\n",
    "import pandas\n",
    "from sklearn import model_selection\n",
    "from sklearn.linear_model import LogisticRegression\n",
    "import pickle\n",
    "!pip install h5py\n",
    "try:\n",
    "  import h5py\n",
    "except ImportError:\n",
    "    h5py = None\n",
    "    \n",
    "from keras.models import Sequential\n",
    "from keras.layers import Dense\n",
    "from keras.models import model_from_yaml\n",
    "from keras.models import model_from_json\n",
    "import numpy\n",
    "import os\n",
    "\n",
    "\n",
    "\n",
    "def load_images(location):\n",
    "    import sys\n",
    "    import os\n",
    "    paths_to_images = []\n",
    "    face_encodings = [] \n",
    "    \"\"\"\n",
    "    Loads a set of images from a working directory\n",
    "    :returns 128d facial encoding for each picture\n",
    "    \"\"\"\n",
    "    image_filenames = sorted(filter(lambda x: x.endswith('.PNG') or \\\n",
    "                                    x.endswith('.png') or x.endswith('.jpg'), os.listdir(location))) #location = directory\n",
    "    paths_to_images = [location + x for x in image_filenames] #location = directory\n",
    "\n",
    "    def load_image_file(file): \n",
    "        \"\"\"\n",
    "        Loads an image file (.jpg, .png, etc) into a numpy array\n",
    "        :return: image contents as numpy array\n",
    "        numpy array converted from BGR to RGB for Facerec Library\n",
    "        \"\"\"\n",
    "        file = cv2.imread(file)\n",
    "        return cv2.cvtColor(file, cv2.COLOR_BGR2RGB)\n",
    "    \n",
    "    for path_to_image in paths_to_images:\n",
    "        path_to_image = load_image_file(path_to_image)\n",
    "        face_encodings.append(face_recognition.face_encodings(path_to_image)[0])\n",
    "    known_face_encodings = face_encodings\n",
    "\n",
    "        \n",
    "    return(known_face_encodings)\n",
    "\n",
    "\n",
    "def known_face_names(location):\n",
    "    import sys\n",
    "    import os\n",
    "    image_filenames = sorted(filter(lambda x: x.endswith('.PNG') or x.endswith('.jpg')\\\n",
    "                                    or x.endswith('.png'), os.listdir(location))) #location = directory\n",
    "    paths_to_images = [location + x for x in image_filenames] #location = directory\n",
    "    return(paths_to_images)\n",
    "\n",
    "    \n",
    "\n"
   ]
  },
  {
   "cell_type": "markdown",
   "metadata": {},
   "source": [
    "- Need to convert to .py file.\n",
    "\n",
    "- Run cd Directory \n",
    "\n",
    "- run ipython filename.py\n"
   ]
  },
  {
   "cell_type": "markdown",
   "metadata": {
    "ExecuteTime": {
     "end_time": "2018-03-28T04:33:38.627973Z",
     "start_time": "2018-03-28T04:33:38.625968Z"
    }
   },
   "source": [
    "## Model Based, Rather than instance based"
   ]
  },
  {
   "cell_type": "code",
   "execution_count": 2,
   "metadata": {
    "ExecuteTime": {
     "end_time": "2018-03-28T10:21:14.056284Z",
     "start_time": "2018-03-28T10:21:14.049264Z"
    }
   },
   "outputs": [
    {
     "data": {
      "text/plain": [
       "[name: \"/device:CPU:0\"\n",
       " device_type: \"CPU\"\n",
       " memory_limit: 268435456\n",
       " locality {\n",
       " }\n",
       " incarnation: 13446642358047720282, name: \"/device:GPU:0\"\n",
       " device_type: \"GPU\"\n",
       " memory_limit: 4932907827\n",
       " locality {\n",
       "   bus_id: 1\n",
       " }\n",
       " incarnation: 3807952177812140400\n",
       " physical_device_desc: \"device: 0, name: GeForce GTX 1060 6GB, pci bus id: 0000:02:00.0, compute capability: 6.1\"]"
      ]
     },
     "execution_count": 2,
     "metadata": {},
     "output_type": "execute_result"
    }
   ],
   "source": [
    "from tensorflow.python.client import device_lib\n",
    "\n",
    "device_lib.list_local_devices()"
   ]
  },
  {
   "cell_type": "code",
   "execution_count": 3,
   "metadata": {
    "ExecuteTime": {
     "end_time": "2018-03-28T10:23:31.553945Z",
     "start_time": "2018-03-28T10:23:15.626128Z"
    }
   },
   "outputs": [
    {
     "data": {
      "image/png": "[encoded data removed]",
      "text/plain": [
       "<Figure size 864x576 with 2 Axes>"
      ]
     },
     "metadata": {},
     "output_type": "display_data"
    },
    {
     "name": "stdout",
     "output_type": "stream",
     "text": [
      "Saved model to disk\n"
     ]
    }
   ],
   "source": [
    "############################################Prepare Data######################################################################\n",
    "\n",
    "#UDFs to create arrays of knownfaceencodings and knownfacenames\n",
    "known_face_encodings = load_images(location = '3ClassTraining/')\n",
    "known = pd.DataFrame(known_face_names(location = '3ClassTraining/'))\n",
    "\n",
    "\n",
    "#Here is logic to define class based on filepath name. If path == \"Jake\" then 1, etc..\n",
    "known.rename(columns={0 : 'Label'}, inplace=True)\n",
    "known.loc[:,'Class'] = np.where(known[\"Label\"].str.contains(\"JakeDineen\"), \"1\",\n",
    "                                np.where(known[\"Label\"].str.contains(\"Vincent|Jewell|Bailee|Dave\"), \"0\", \"null\"))\n",
    "\n",
    "\n",
    "#len(known_face_encodings)\n",
    "#Jake = pd.DataFrame(np.repeat(1, 30))\n",
    "#NotJake = pd.DataFrame(np.repeat(0,52))\n",
    "#y = [Jake, NotJake]\n",
    "#y = pd.DataFrame(pd.concat(y))\n",
    "#y = y.reset_index()\n",
    "#y = y.drop(\"index\", axis = 1)\n",
    "#y.rename(columns={'0' : 'Label'}, inplace=True)\n",
    "\n",
    "\n",
    "\n",
    "#Convert/Normalize Input Arrays\n",
    "x = pd.DataFrame(known_face_encodings) #store as dataframe\n",
    "x= x.astype('float32') #convert datatype to float 32\n",
    "\n",
    "#Convert/O.H.E Input Arrays\n",
    "num_classes = 2\n",
    "y = pd.DataFrame(known.loc[:,'Class']) #Dependent Variable storage\n",
    "y = np_utils.to_categorical(y,num_classes)\n",
    "\n",
    "#Set Test Size to 0.4 after realizing initial success at a .2 threshold.\n",
    "xtrain, xtest, ytrain, ytest = train_test_split(x, y, test_size = 0.2, random_state=42)\n",
    "\n",
    "\n",
    "############################################BUILD THE MODEL######################################################################\n",
    "\n",
    "model = Sequential() #Prime the model\n",
    "model.add(Dense(512, input_shape=(128,)))#shape from reshaped vector\n",
    "model.add(Activation('relu'))\n",
    "model.add(Dropout(0.2))\n",
    "model.add(Dense(512))\n",
    "model.add(Activation('relu'))\n",
    "model.add(Dropout(0.2))\n",
    "model.add(Dense(512))\n",
    "model.add(Activation('relu'))\n",
    "model.add(Dropout(0.2))\n",
    "model.add(Dense(num_classes)) #2 class output\n",
    "model.add(Activation('softmax')) \n",
    "\n",
    "#Model parameters. \n",
    "NB_EPOCH = 150\n",
    "#NB_EPOCH = 50\n",
    "BATCH_SIZE = 75\n",
    "VERBOSE = 1 #This sets Verbose to true meaning that logging output will be displayed on screen. Verbose = 0 is default and does allow model to run faster.\n",
    "NB_CLASSES = num_classes\n",
    "OPTIMIZER = Adam(lr= .0001)\n",
    "VALIDATION_SPLIT = .3\n",
    "Loss = 'binary_crossentropy'\n",
    "\n",
    "with tf.device('/gpu:0'):\n",
    "    model.compile(loss = Loss, optimizer= OPTIMIZER, metrics=['accuracy'])\n",
    "    sess = tf.Session(config=tf.ConfigProto(allow_soft_placement=True, log_device_placement=True))\n",
    "    history = model.fit(xtrain, ytrain, batch_size= BATCH_SIZE, epochs=NB_EPOCH, verbose=VERBOSE,\\\n",
    "                            validation_split= VALIDATION_SPLIT, callbacks=[PlotLossesKeras()])\n",
    "\n",
    "#################################################SAVE THE MODEL#################################################################\n",
    "    \n",
    "# serialize model to JSON\n",
    "model_json = model.to_json()\n",
    "with open(\"model.json\", \"w\") as json_file:\n",
    "    json_file.write(model_json)\n",
    "# serialize weights to HDF5\n",
    "model.save_weights(\"model.h5\")\n",
    "print(\"Saved model to disk\")"
   ]
  },
  {
   "cell_type": "code",
   "execution_count": 4,
   "metadata": {},
   "outputs": [
    {
     "name": "stdout",
     "output_type": "stream",
     "text": [
      "26/26 [==============================] - 0s 58us/step\n",
      "Accuracy on test set = 1.0\n"
     ]
    },
    {
     "data": {
      "text/plain": [
       "array([[22,  0],\n",
       "       [ 0,  4]], dtype=int64)"
      ]
     },
     "execution_count": 4,
     "metadata": {},
     "output_type": "execute_result"
    }
   ],
   "source": [
    "from sklearn.metrics import confusion_matrix\n",
    "score = model.evaluate(xtest, ytest, verbose=VERBOSE)\n",
    "print(\"Accuracy on test set =\", score[1])\n",
    "\n",
    "predicted = model.predict_classes(xtest)\n",
    "\n",
    "\n",
    "# Predict the values from the validation dataset\n",
    "Y_pred = model.predict(xtest)\n",
    "# Convert predictions classes to one hot vectors \n",
    "Y_pred_classes = np.argmax(Y_pred,axis = 1) \n",
    "# Convert validation observations to one hot vectors\n",
    "Y_true = np.argmax(ytest,axis = 1) \n",
    "# compute the confusion matrix\n",
    "confusion_mtx = confusion_matrix(Y_true, Y_pred_classes) \n",
    "confusion_mtx\n",
    "\n",
    "\n"
   ]
  },
  {
   "cell_type": "code",
   "execution_count": 6,
   "metadata": {
    "ExecuteTime": {
     "end_time": "2018-03-28T10:16:11.501187Z",
     "start_time": "2018-03-28T10:16:11.372846Z"
    },
    "code_folding": []
   },
   "outputs": [
    {
     "name": "stdout",
     "output_type": "stream",
     "text": [
      "Loaded model from disk\n"
     ]
    }
   ],
   "source": [
    "# load json and create model\n",
    "json_file = open('model.json', 'r')\n",
    "loaded_model_json = json_file.read()\n",
    "json_file.close()\n",
    "loaded_model = model_from_json(loaded_model_json)\n",
    "# load weights into new model\n",
    "loaded_model.load_weights(\"model.h5\")\n",
    "print(\"Loaded model from disk\")\n",
    "\n",
    "#known_face_encodings = load_images(location = '3ClassTraining/')\n",
    "#known = known_face_names(location = '3ClassTraining/')\n",
    "\n",
    "\n",
    "video_capture = cv2.VideoCapture(0)\n",
    "\n",
    "# Initialize some variables\n",
    "face_locations = []\n",
    "face_encodings = []\n",
    "face_names = []\n",
    "process_this_frame = True\n",
    "\n",
    "while True:\n",
    "    # Grab a single frame of video\n",
    "    ret, frame = video_capture.read(0)\n",
    "\n",
    "    # Resize frame of video to 1/4 size for faster face recognition processing\n",
    "    small_frame = cv2.resize(frame, (0, 0), fx=0.25, fy=0.25)\n",
    "    \n",
    "    # Convert the image from BGR color (which OpenCV uses) to RGB color (which face_recognition uses)\n",
    "    rgb_small_frame = small_frame[:, :, ::-1]\n",
    "\n",
    "    # Only process every other frame of video to save time\n",
    "    if process_this_frame:\n",
    "        # Find all the faces and face encodings in the current frame of video\n",
    "        face_locations = face_recognition.face_locations(rgb_small_frame)\n",
    "        face_encodings = pd.DataFrame(face_recognition.face_encodings(rgb_small_frame, face_locations))\n",
    "\n",
    "    face_names = []\n",
    "    face_probs = []\n",
    "\n",
    "    for face_encoding in face_encodings:\n",
    "        # See if the face is a match for the known face(s)\n",
    "        match = np.array(loaded_model.predict_classes(face_encodings))\n",
    "        maxi = loaded_model.predict_proba(face_encodings)\n",
    "        \n",
    "        \n",
    "        name = None\n",
    "        if match ==0:\n",
    "            name = \"NotJake\"\n",
    "        elif match ==1:\n",
    "            name = \"Jake\"          \n",
    "        else:\n",
    "            name = \"Unknown\"\n",
    "            \n",
    "        probs = str(np.round((maxi*100),2)) \n",
    "   \n",
    "            \n",
    "    \n",
    "        face_names.append(name)\n",
    "        face_probs.append(probs)\n",
    "        process_this_frame = not process_this_frame\n",
    "\n",
    "    # Display the results\n",
    "    for (top, right, bottom, left), name, proba in zip(face_locations, face_names, face_probs):\n",
    "        # Scale back up face locations since the frame we detected in was scaled to 1/4 siz\n",
    "        top *= 4\n",
    "        right *= 4\n",
    "        bottom *= 4\n",
    "        left *= 4\n",
    "        # Draw a box around the face\n",
    "        cv2.rectangle(frame, (left, top), (right, bottom), (0, 0, 255), 2)\n",
    "\n",
    "        # Draw a label with a name below the face\n",
    "        cv2.rectangle(frame, (left, bottom), (right, bottom), (0, 0, 255), cv2.FILLED)\n",
    "        font = cv2.FONT_HERSHEY_DUPLEX\n",
    "        cv2.putText(frame, name, (left + 50, bottom), font, 1.0, (255, 255, 255), 1)\n",
    "        \n",
    "        # Draw a label with softmax output on top of the bounding box and centered.q\n",
    "        cv2.putText(frame, proba, (right - 125, top), font, .5, (255, 255, 255), 1)        \n",
    "        \n",
    "        \n",
    "\n",
    "\n",
    "    # Display the resulting image\n",
    "    cv2.imshow('Video', frame)\n",
    "\n",
    "    # Hit 'q' on the keyboard to quit!\n",
    "    if cv2.waitKey(1) & 0xFF == ord('q'):\n",
    "        break\n",
    "\n",
    "# Release handle to the webcam\n",
    "video_capture.release()\n",
    "cv2.destroyAllWindows()"
   ]
  },
  {
   "cell_type": "markdown",
   "metadata": {},
   "source": [
    "- Connect This to a Raspi + Pi Camera\n",
    "- Tap into August API to unlock Door"
   ]
  }
 ],
 "metadata": {
  "kernelspec": {
   "display_name": "Python 3",
   "language": "python",
   "name": "python3"
  },
  "language_info": {
   "codemirror_mode": {
    "name": "ipython",
    "version": 3
   },
   "file_extension": ".py",
   "mimetype": "text/x-python",
   "name": "python",
   "nbconvert_exporter": "python",
   "pygments_lexer": "ipython3",
   "version": "3.6.4"
  }
 },
 "nbformat": 4,
 "nbformat_minor": 2
}
